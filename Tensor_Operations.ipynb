{
  "nbformat": 4,
  "nbformat_minor": 0,
  "metadata": {
    "colab": {
      "name": "Tensor Operations.ipynb",
      "provenance": [],
      "collapsed_sections": [],
      "toc_visible": true,
      "authorship_tag": "ABX9TyMgEI8cf2yKWXHdEuja2L+K",
      "include_colab_link": true
    },
    "kernelspec": {
      "name": "python3",
      "display_name": "Python 3"
    },
    "language_info": {
      "name": "python"
    }
  },
  "cells": [
    {
      "cell_type": "markdown",
      "metadata": {
        "id": "view-in-github",
        "colab_type": "text"
      },
      "source": [
        "<a href=\"https://colab.research.google.com/github/Lotfullah21/Tensors_/blob/main/Tensor_Operations.ipynb\" target=\"_parent\"><img src=\"https://colab.research.google.com/assets/colab-badge.svg\" alt=\"Open In Colab\"/></a>"
      ]
    },
    {
      "cell_type": "markdown",
      "source": [
        "# Tensors\n",
        "Basically Tensors are the main data strucuture of machine learning operatins,while adding new layers into the network there is going to be so many operations on tensors. if we consider one of the operations which happens in a layers,  this one layer wiht 128 neurons **tf.keras.layers.Dense(128,activation = 'relu')**.              \n",
        "**output = relu(dot(w,input)+b)**\n",
        "                      if we look at the ouput deeper, there is three operations happening.\n",
        "1. Dot product between the weights and the neurons.\n",
        "2. after Dot prodcut we do addition operation with bias(b).\n",
        "3. at the end as we are using the relu activatin function, we apply this function which returns max(0,X).\n"
      ],
      "metadata": {
        "id": "T81IgnZbwVQE"
      }
    },
    {
      "cell_type": "markdown",
      "source": [
        "# 1 Element Wise opeartion:\n",
        "the relu and the addition operation are element wise operation, it means all the elements will be involeved in the operation and the opeartion goes on individually to each of them."
      ],
      "metadata": {
        "id": "iIHXjZvMwVX9"
      }
    },
    {
      "cell_type": "markdown",
      "source": [
        ""
      ],
      "metadata": {
        "id": "VvOdQODvOslC"
      }
    },
    {
      "cell_type": "code",
      "source": [
        "import numpy as np\n",
        "def relu_operation(x):\n",
        "  assert len(x.shape)==2\n",
        "  # assertion to check the shape should be equll to 2(2D tensor), else raise error\n",
        "  x = x.copy()\n",
        "  # it creates a shallow coppy of x\n",
        "  for i in range(x.shape[0]):\n",
        "    for j in range(x.shape[1]):\n",
        "      # relu max(0,x)\n",
        "      x[i,j] = max(x[i,j],0)\n",
        "  return x     \n",
        "relu_operation(np.array([[2,-23,2,12,12],[2,-1,2,12,12],[-1,-1,-.43,12,12]]))\n"
      ],
      "metadata": {
        "colab": {
          "base_uri": "https://localhost:8080/"
        },
        "id": "Qc9BXV41y__3",
        "outputId": "a8687a6d-5b2e-4b2d-e91a-a390a621b677"
      },
      "execution_count": 76,
      "outputs": [
        {
          "output_type": "execute_result",
          "data": {
            "text/plain": [
              "array([[ 2.,  0.,  2., 12., 12.],\n",
              "       [ 2.,  0.,  2., 12., 12.],\n",
              "       [ 0.,  0.,  0., 12., 12.]])"
            ]
          },
          "metadata": {},
          "execution_count": 76
        }
      ]
    },
    {
      "cell_type": "markdown",
      "source": [
        "# Addition"
      ],
      "metadata": {
        "id": "i0cvhaS9wVbd"
      }
    },
    {
      "cell_type": "code",
      "source": [
        "def addition(x,y):\n",
        "  assert len(x.shape)==2\n",
        "  assert x.shape == y.shape\n",
        "  for i in range(x.shape[0]):\n",
        "    for j in range(x.shape[1]):\n",
        "      x[i,j] = x[i,j]+y[i,j]\n",
        "  return x\n",
        "addition(np.array([[2,-23,2,12,12],[2,-1,2,12,12],[-1,-1,-.43,12,12]]),np.array([[2,-23,2,12,12],[2,-1,2,12,12],[-1,-1,-.43,12,12]]))  "
      ],
      "metadata": {
        "colab": {
          "base_uri": "https://localhost:8080/"
        },
        "id": "OTpWvSss5WdO",
        "outputId": "3c535eb3-d97f-4e56-982f-7265712a4047"
      },
      "execution_count": 77,
      "outputs": [
        {
          "output_type": "execute_result",
          "data": {
            "text/plain": [
              "array([[  4.  , -46.  ,   4.  ,  24.  ,  24.  ],\n",
              "       [  4.  ,  -2.  ,   4.  ,  24.  ,  24.  ],\n",
              "       [ -2.  ,  -2.  ,  -0.86,  24.  ,  24.  ]])"
            ]
          },
          "metadata": {},
          "execution_count": 77
        }
      ]
    },
    {
      "cell_type": "markdown",
      "source": [
        "# Multiplication"
      ],
      "metadata": {
        "id": "w49oWBww6sGR"
      }
    },
    {
      "cell_type": "code",
      "source": [
        "def Mul(x,y):\n",
        "  assert len(x.shape)==2\n",
        "  assert x.shape == y.shape\n",
        "\n",
        "  for i in range(x.shape[0]):\n",
        "    for j in range(x.shape[1]):\n",
        "      x[i,j] = x[i,j]*y[i,j]\n",
        "  return x\n",
        "Mul(np.array([[2,-23,2,12,12],[2,-1,2,12,12],[-1,-1,-.43,12,12]]),np.array([[2,-23,2,12,12],[2,-1,2,12,12],[-1,-1,-.43,12,12]]))  "
      ],
      "metadata": {
        "colab": {
          "base_uri": "https://localhost:8080/"
        },
        "id": "hAOVq2bu6k-e",
        "outputId": "c6495ee7-74a0-41ec-e756-811a676afab5"
      },
      "execution_count": 78,
      "outputs": [
        {
          "output_type": "execute_result",
          "data": {
            "text/plain": [
              "array([[4.000e+00, 5.290e+02, 4.000e+00, 1.440e+02, 1.440e+02],\n",
              "       [4.000e+00, 1.000e+00, 4.000e+00, 1.440e+02, 1.440e+02],\n",
              "       [1.000e+00, 1.000e+00, 1.849e-01, 1.440e+02, 1.440e+02]])"
            ]
          },
          "metadata": {},
          "execution_count": 78
        }
      ]
    },
    {
      "cell_type": "markdown",
      "source": [
        "\n",
        "# Subtraction\n"
      ],
      "metadata": {
        "id": "sjkhmpVe6wIW"
      }
    },
    {
      "cell_type": "code",
      "source": [
        "def Subtraction(x,y):\n",
        "  assert len(x.shape)==2\n",
        "  # in matrices in order to do arithmetic operations, we need few conditions, but the generla one would be to expect both the matrices have smae lenght\n",
        "  assert x.shape == y.shape\n",
        "\n",
        "  for i in range(x.shape[0]):\n",
        "    for j in range(x.shape[1]):\n",
        "      x[i,j] = x[i,j]-y[i,j]\n",
        "  return x\n",
        "Subtraction(np.array([[2,-23,2,12,12],[2,-1,2,12,12],[-1,-1,-.43,12,12]]),np.array([[2,-23,2,12,12],[2,-1,2,12,12],[-1,-1,-.43,12,12]]))  "
      ],
      "metadata": {
        "colab": {
          "base_uri": "https://localhost:8080/"
        },
        "id": "B0Jm6GK16y2a",
        "outputId": "76ffde1d-6276-489c-c99b-4256fa4cae81"
      },
      "execution_count": 79,
      "outputs": [
        {
          "output_type": "execute_result",
          "data": {
            "text/plain": [
              "array([[0., 0., 0., 0., 0.],\n",
              "       [0., 0., 0., 0., 0.],\n",
              "       [0., 0., 0., 0., 0.]])"
            ]
          },
          "metadata": {},
          "execution_count": 79
        }
      ]
    },
    {
      "cell_type": "markdown",
      "source": [
        "# Division"
      ],
      "metadata": {
        "id": "kZuJ7VVe69Ep"
      }
    },
    {
      "cell_type": "code",
      "source": [
        "def Division(x,y):\n",
        "  assert len(x.shape)==2\n",
        "  assert x.shape == y.shape\n",
        "\n",
        "  for i in range(x.shape[0]):\n",
        "    for j in range(x.shape[1]):\n",
        "      x[i,j] = x[i,j]/y[i,j]\n",
        "  return x\n",
        "Division(np.array([[2,-23,2,12,12],[2,-1,2,12,12],[-1,-1,-.43,12,12]]),np.array([[2,-23,2,12,12],[2,-1,2,12,12],[-1,-1,-.43,12,12]]))  "
      ],
      "metadata": {
        "colab": {
          "base_uri": "https://localhost:8080/"
        },
        "id": "V52P0xCx7AJ7",
        "outputId": "e33a05c8-fb06-4d87-e360-11d4a6bb0184"
      },
      "execution_count": 80,
      "outputs": [
        {
          "output_type": "execute_result",
          "data": {
            "text/plain": [
              "array([[1., 1., 1., 1., 1.],\n",
              "       [1., 1., 1., 1., 1.],\n",
              "       [1., 1., 1., 1., 1.]])"
            ]
          },
          "metadata": {},
          "execution_count": 80
        }
      ]
    },
    {
      "cell_type": "code",
      "source": [
        "# in this snip we can see how easy it is to do element wise operation using numpy\n",
        "import numpy as np\n",
        "x = np.array([[-2,13,1,2,1],[2,13,1,2,1],[2,13,1,2,1]])\n",
        "y = np.array([[0,21,1,2,4],[-12,13,1,2,1],[-20,13,1,2,1]])\n",
        "z = x+y\n",
        "print(\"summation\\n\",z)\n",
        "# by using maximum built_in function we did relu operation here.\n",
        "w = np.maximum(z,0)\n",
        "print(\"relu\\n\",w)\n",
        "# max will return max element among the elements present in the matrices, it is different from maximum\n",
        "s = np.max(z,0)\n",
        "print(\"maximum numbers among elements in matrices\\t\\n\",s)\n"
      ],
      "metadata": {
        "colab": {
          "base_uri": "https://localhost:8080/"
        },
        "id": "qAXgaJVk8bOZ",
        "outputId": "d7051ffd-dd83-4d23-9f62-89cc84b1438b"
      },
      "execution_count": 81,
      "outputs": [
        {
          "output_type": "stream",
          "name": "stdout",
          "text": [
            "summation\n",
            " [[ -2  34   2   4   5]\n",
            " [-10  26   2   4   2]\n",
            " [-18  26   2   4   2]]\n",
            "relu\n",
            " [[ 0 34  2  4  5]\n",
            " [ 0 26  2  4  2]\n",
            " [ 0 26  2  4  2]]\n",
            "maximum numbers among elements in matrices\t\n",
            " [-2 34  2  4  5]\n"
          ]
        }
      ]
    },
    {
      "cell_type": "markdown",
      "source": [
        " in numpy we can do the above operations, but it could super fast and easy to implement.\n",
        " "
      ],
      "metadata": {
        "id": "yp-eOWdV8O1v"
      }
    },
    {
      "cell_type": "markdown",
      "source": [
        "# BroadCasting:\n",
        "when we are adding two matrices, they should have same dimensions or shape, other wise the operation would not succeed, but in neural network, we are having vectors and matrices of different shapes, so how to overcome this issue?\"\n",
        "this is where the **broadcasting** comes in front, the smaller tensor will be broadcsted to match the shape of the larger one.\n",
        "How this happens ?\n",
        "1. Axis (called broadcast axes) are added to the smaller tensor to match the ndim of the larger tensor.\n",
        "2. The smaller tensor is repeated along side this new axes to match the the full shape of the larger tensor.\n",
        "\n",
        "for example if we have X in the shape of (63,10) and Y in the shape of (32,10), first we add an empty exes to Y, then we repeat Y 32 times alongside this new axis, so that to make the shape of Y (64,10).\n",
        "this operation do not happen in memory level, because every time we have to add a new tensor and save it, which is costly for us in terms of memory and efficiency. the operation happens in algorithmic level and virtually."
      ],
      "metadata": {
        "id": "2A1hkO0oB0jO"
      }
    },
    {
      "cell_type": "code",
      "source": [
        "def add(x,y):\n",
        "  assert len(x.shape)==2\n",
        "  assert len(y.shape)==1\n",
        "  assert x.shape[1] == y.shape[0]\n",
        "  for i in range(x.shape[0]):\n",
        "    for j in range(x.shape[1]):\n",
        "      x[i,j]  = x[i,j]+y[j]\n",
        "  return x\n",
        "x = np.array([[3,22,1],[10,20,-2]])\n",
        "y = np.array([1,12,0])\n",
        "add(x,y)"
      ],
      "metadata": {
        "colab": {
          "base_uri": "https://localhost:8080/"
        },
        "id": "ryFmSGcZEvlK",
        "outputId": "6dc8c252-0a84-4f4d-c6f7-8979a5707284"
      },
      "execution_count": 82,
      "outputs": [
        {
          "output_type": "execute_result",
          "data": {
            "text/plain": [
              "array([[ 4, 34,  1],\n",
              "       [11, 32, -2]])"
            ]
          },
          "metadata": {},
          "execution_count": 82
        }
      ]
    },
    {
      "cell_type": "markdown",
      "source": [
        "as we can see eventhough the y is 1D but still we are able to add to x by using the above code,\n",
        "but still it is an efficient way, so lets try the another way.\n"
      ],
      "metadata": {
        "id": "rS4vjrWjGqHb"
      }
    },
    {
      "cell_type": "markdown",
      "source": [
        "\n"
      ],
      "metadata": {
        "id": "8UOEF31SwVdN"
      }
    },
    {
      "cell_type": "code",
      "source": [
        "x = np.array([[8,22,1],[21,10,1]])\n",
        "y = np.array([2,1,0])\n",
        "z = np.maximum(x,y)\n",
        "z"
      ],
      "metadata": {
        "colab": {
          "base_uri": "https://localhost:8080/"
        },
        "id": "Oozi1qr7HBu6",
        "outputId": "2c931321-8714-4ecd-998d-2810ad7ac273"
      },
      "execution_count": 83,
      "outputs": [
        {
          "output_type": "execute_result",
          "data": {
            "text/plain": [
              "array([[ 8, 22,  1],\n",
              "       [21, 10,  1]])"
            ]
          },
          "metadata": {},
          "execution_count": 83
        }
      ]
    },
    {
      "cell_type": "code",
      "source": [
        "x = np.random.random((2,4,3))\n",
        "y = np.random.random((4,3))\n",
        "z = np.maximum(x,y)\n",
        "print('y=\\t',y)\n",
        "print('x\\t',x)\n",
        "print('z\\t',z)"
      ],
      "metadata": {
        "colab": {
          "base_uri": "https://localhost:8080/"
        },
        "id": "N9YkvIDoGQ9m",
        "outputId": "b9e0f002-4b06-47b8-d3da-cee76c3931f1"
      },
      "execution_count": 84,
      "outputs": [
        {
          "output_type": "stream",
          "name": "stdout",
          "text": [
            "y=\t [[0.59955006 0.88520996 0.44160408]\n",
            " [0.82642287 0.45146039 0.99847546]\n",
            " [0.75521767 0.1502978  0.80314471]\n",
            " [0.78543381 0.18288199 0.13507801]]\n",
            "x\t [[[0.8841385  0.67493843 0.9438241 ]\n",
            "  [0.74146191 0.19532566 0.04399444]\n",
            "  [0.185564   0.00710076 0.95032417]\n",
            "  [0.98819543 0.03302502 0.94959284]]\n",
            "\n",
            " [[0.18627817 0.24003563 0.92584527]\n",
            "  [0.90755023 0.76195207 0.16341637]\n",
            "  [0.05609479 0.06710934 0.64603844]\n",
            "  [0.34265935 0.93585823 0.1365639 ]]]\n",
            "z\t [[[0.8841385  0.88520996 0.9438241 ]\n",
            "  [0.82642287 0.45146039 0.99847546]\n",
            "  [0.75521767 0.1502978  0.95032417]\n",
            "  [0.98819543 0.18288199 0.94959284]]\n",
            "\n",
            " [[0.59955006 0.88520996 0.92584527]\n",
            "  [0.90755023 0.76195207 0.99847546]\n",
            "  [0.75521767 0.1502978  0.80314471]\n",
            "  [0.78543381 0.93585823 0.1365639 ]]]\n"
          ]
        }
      ]
    },
    {
      "cell_type": "code",
      "source": [
        ""
      ],
      "metadata": {
        "id": "WHv6e_4WIdL3"
      },
      "execution_count": 84,
      "outputs": []
    },
    {
      "cell_type": "markdown",
      "source": [
        "# Tensor dot\n",
        "here after multuplyinge elements of a matrix,or a vector with each other we wills sum up them all.\n",
        "we can multuply a vector by a matrix, the result will be a vector.\n"
      ],
      "metadata": {
        "id": "gbB8kBe51uLK"
      }
    },
    {
      "cell_type": "code",
      "source": [
        "import numpy as np\n",
        "x = [2,3,2]\n",
        "y = [3,2,1]\n",
        "z = np.dot(x,y)\n",
        "z"
      ],
      "metadata": {
        "colab": {
          "base_uri": "https://localhost:8080/"
        },
        "id": "1IF-Ke3t2et-",
        "outputId": "a5f6dd92-7f05-4a43-9aa8-691a5b546878"
      },
      "execution_count": 85,
      "outputs": [
        {
          "output_type": "execute_result",
          "data": {
            "text/plain": [
              "14"
            ]
          },
          "metadata": {},
          "execution_count": 85
        }
      ]
    },
    {
      "cell_type": "code",
      "source": [
        "def dot(x,y):\n",
        "  # by specifiying the shape to be 1, we define it is a vector tensor\n",
        "  assert len(x.shape)==1\n",
        "  assert len(y.shape)==1\n",
        "  assert x.shape[0]==y.shape[0]\n",
        "  z = 0\n",
        "  for i in range(x.shape[0]):\n",
        "    z = z + x[i]*y[i]\n",
        "  return z   \n",
        "x = np.array([2,2,3])\n",
        "y = np.array([2,1,1])\n",
        "dot(x,y)"
      ],
      "metadata": {
        "colab": {
          "base_uri": "https://localhost:8080/"
        },
        "id": "9KCIfSpL2nVa",
        "outputId": "0078afdc-3562-4d9b-ecfa-32c54ce36e55"
      },
      "execution_count": 86,
      "outputs": [
        {
          "output_type": "execute_result",
          "data": {
            "text/plain": [
              "9"
            ]
          },
          "metadata": {},
          "execution_count": 86
        }
      ]
    },
    {
      "cell_type": "code",
      "source": [
        "# Matrix with a vector\n",
        "def dot(x,y):\n",
        "  # by specifiying the shape to be 1, we define it is a vector tensor\n",
        "  assert len(x.shape)==2\n",
        "  assert len(y.shape)==1\n",
        "  assert x.shape[1]==y.shape[0]\n",
        "  z = np.zeros(x.shape[0])\n",
        "  for i in range(x.shape[0]):\n",
        "    for j in range(x.shape[0]):\n",
        "      z[i] = z[i] + x[i,j]*y[j]\n",
        "  return z   \n",
        "x = np.array([[1,2,3],[1,3,1]])\n",
        "y = np.array([8,1,4])\n",
        "dot(x,y)"
      ],
      "metadata": {
        "colab": {
          "base_uri": "https://localhost:8080/"
        },
        "id": "99W0n5_u3nc9",
        "outputId": "c8ecc562-47b6-4166-a0b2-5c30a1978156"
      },
      "execution_count": 87,
      "outputs": [
        {
          "output_type": "execute_result",
          "data": {
            "text/plain": [
              "array([10., 11.])"
            ]
          },
          "metadata": {},
          "execution_count": 87
        }
      ]
    },
    {
      "cell_type": "code",
      "source": [
        "x = np.array([[1,2,3],[1,3,1]])\n",
        "y = np.array([8,1,4])\n",
        "z = np.dot(x,y)\n",
        "print(z)"
      ],
      "metadata": {
        "colab": {
          "base_uri": "https://localhost:8080/"
        },
        "id": "ugYQtajC41MM",
        "outputId": "d173dee3-c83f-4cc1-e008-815f45916da9"
      },
      "execution_count": 88,
      "outputs": [
        {
          "output_type": "stream",
          "name": "stdout",
          "text": [
            "[22 15]\n"
          ]
        }
      ]
    },
    {
      "cell_type": "code",
      "source": [
        ""
      ],
      "metadata": {
        "id": "7xAtj9mg7HQZ"
      },
      "execution_count": 88,
      "outputs": []
    },
    {
      "cell_type": "markdown",
      "source": [
        "# Tensor reshaping\n",
        "reshaping a tensor means rearranging its rows and columns to match a target shape.\n",
        "\n",
        "one useful case woudl be **transposition**, it is done in matrix to exchanges the rows with columns. "
      ],
      "metadata": {
        "id": "mA88p8cf9zX4"
      }
    },
    {
      "cell_type": "code",
      "source": [
        "# lets look at one example how the reshaping process takes place\n",
        "x = np.array([[23,2,2,4],[34,2,2,3],[3,23,20,90]])\n",
        "print(x.shape)\n",
        "# while reshaping, remember that the product of rows and columns should be choosen as equall to original one\n",
        "# for example,here we cannot choose reshape(6,3), because it has 18 elements and our x had 12.it can be (4,3),(6,2),(2,6),(12,1) and so on.\n",
        "y = x.reshape(6,2)\n",
        "y"
      ],
      "metadata": {
        "colab": {
          "base_uri": "https://localhost:8080/"
        },
        "id": "XCNW6nKZ8ePH",
        "outputId": "087974b6-8248-4e73-ebb9-5f6e43fda0cd"
      },
      "execution_count": 89,
      "outputs": [
        {
          "output_type": "stream",
          "name": "stdout",
          "text": [
            "(3, 4)\n"
          ]
        },
        {
          "output_type": "execute_result",
          "data": {
            "text/plain": [
              "array([[23,  2],\n",
              "       [ 2,  4],\n",
              "       [34,  2],\n",
              "       [ 2,  3],\n",
              "       [ 3, 23],\n",
              "       [20, 90]])"
            ]
          },
          "metadata": {},
          "execution_count": 89
        }
      ]
    },
    {
      "cell_type": "code",
      "source": [
        "# Transpose\n",
        "x = np.array([[32,2,1],[3,2,1]])\n",
        "\n",
        "print('x\\n',x)\n",
        "print('shape\\t',x.shape)\n",
        "\n",
        "new_x = np.transpose(x)\n",
        "\n",
        "print('new_x \\n',new_x)\n",
        "print('shape\\t',new_x.shape)"
      ],
      "metadata": {
        "colab": {
          "base_uri": "https://localhost:8080/"
        },
        "id": "0R2hxUFw_ydy",
        "outputId": "939a81e1-474c-49e2-9284-673856732a64"
      },
      "execution_count": 90,
      "outputs": [
        {
          "output_type": "stream",
          "name": "stdout",
          "text": [
            "x\n",
            " [[32  2  1]\n",
            " [ 3  2  1]]\n",
            "shape\t (2, 3)\n",
            "new_x \n",
            " [[32  3]\n",
            " [ 2  2]\n",
            " [ 1  1]]\n",
            "shape\t (3, 2)\n"
          ]
        }
      ]
    },
    {
      "cell_type": "code",
      "source": [
        "A = [1,1,1,1]\n",
        "np.linalg.norm(A)"
      ],
      "metadata": {
        "colab": {
          "base_uri": "https://localhost:8080/"
        },
        "id": "Aq3ZORsFNhVF",
        "outputId": "dad2e512-9f4c-46ab-f45e-84a9398284a3"
      },
      "execution_count": 112,
      "outputs": [
        {
          "output_type": "execute_result",
          "data": {
            "text/plain": [
              "2.0"
            ]
          },
          "metadata": {},
          "execution_count": 112
        }
      ]
    },
    {
      "cell_type": "code",
      "source": [
        "import numpy as np\n",
        "def norm(A, B):\n",
        "    \"\"\"\n",
        "    Takes two Numpy column arrays, A and B, and returns the L2 norm of their\n",
        "    sum.\n",
        "\n",
        "    Arg:\n",
        "      A - a Numpy array\n",
        "      B - a Numpy array\n",
        "    Returns:\n",
        "      s - the L2 norm of A+B.\n",
        "    \"\"\"\n",
        "    #Your code here\n",
        "    s = np.linalg.norm(A) + np.linalg.norm(B)\n",
        "    return s\n",
        "norm(np.random.rand(4,1),np.random.rand(4,1))\n"
      ],
      "metadata": {
        "colab": {
          "base_uri": "https://localhost:8080/"
        },
        "id": "Bzg7wadGasSg",
        "outputId": "833344c8-3fc0-4f1c-9b4a-664ade80e843"
      },
      "execution_count": 4,
      "outputs": [
        {
          "output_type": "execute_result",
          "data": {
            "text/plain": [
              "2.3373408489343883"
            ]
          },
          "metadata": {},
          "execution_count": 4
        }
      ]
    },
    {
      "cell_type": "code",
      "source": [
        "def neural_network(inputs, weights):\n",
        "    \"\"\"\n",
        "     Takes an input vector and runs it through a 1-layer neural network\n",
        "     with a given weight matrix and returns the output.\n",
        "\n",
        "     Arg:\n",
        "       inputs - 2 x 1 NumPy array\n",
        "       weights - 2 x 1 NumPy array\n",
        "     Returns (in this order):\n",
        "       out - a 1 x 1 NumPy array, representing the output of the neural network\n",
        "    \"\"\"\n",
        "   \n",
        "    output = np.tanh(np.dot(weights.transpose(),inputs))\n",
        "    return output\n",
        "    #Your code here\n",
        "    raise NotImplementedError\n",
        "inputs = np.random.rand(2,1)\n",
        "weights = np.random.rand(2,1)\n",
        "print(weights.shape)\n",
        "print(inputs.shape)\n",
        "neural_network(inputs,weights)"
      ],
      "metadata": {
        "colab": {
          "base_uri": "https://localhost:8080/"
        },
        "id": "tcf4L7c7A3eh",
        "outputId": "6dc30bd3-42aa-47b0-b921-0423d789bbb1"
      },
      "execution_count": 63,
      "outputs": [
        {
          "output_type": "stream",
          "name": "stdout",
          "text": [
            "(2, 1)\n",
            "(2, 1)\n"
          ]
        },
        {
          "output_type": "execute_result",
          "data": {
            "text/plain": [
              "array([[0.08763914]])"
            ]
          },
          "metadata": {},
          "execution_count": 63
        }
      ]
    },
    {
      "cell_type": "code",
      "source": [
        "def neural_network(inputs, weights):\n",
        "    o = np.matmul(weights.transpose(),inputs)\n",
        "    return np.tanh(o)\n",
        "    \n",
        "    raise NotImplementedError\n",
        "x = np.array([[2],[2]])\n",
        "w = np.array([[3],[3]])\n",
        "\n",
        "neural_network(x,w)\n"
      ],
      "metadata": {
        "colab": {
          "base_uri": "https://localhost:8080/"
        },
        "id": "Np4LjLWhH5U0",
        "outputId": "2ab35b78-27cf-43c0-a684-df28c58ebf05"
      },
      "execution_count": 61,
      "outputs": [
        {
          "output_type": "execute_result",
          "data": {
            "text/plain": [
              "array([[1.]])"
            ]
          },
          "metadata": {},
          "execution_count": 61
        }
      ]
    },
    {
      "cell_type": "code",
      "source": [
        "# implementing a simple neural network with the w weights and x inputs\n",
        "def neural_network(inputs, weights):\n",
        "    return  np.tanh(np.matmul(weights.transpose(),inputs))\n",
        "    raise NotImplementedError\n",
        "x = np.random.rand(2,1)\n",
        "w = np.random.rand(2,1)\n",
        "\n",
        "\n",
        "neural_network(x,w)"
      ],
      "metadata": {
        "colab": {
          "base_uri": "https://localhost:8080/"
        },
        "id": "oTFasYQ3K43-",
        "outputId": "b27cf0b4-71d2-454a-bdf2-eac3a48f93e3"
      },
      "execution_count": 62,
      "outputs": [
        {
          "output_type": "execute_result",
          "data": {
            "text/plain": [
              "array([[0.29916839]])"
            ]
          },
          "metadata": {},
          "execution_count": 62
        }
      ]
    },
    {
      "cell_type": "markdown",
      "source": [
        "# NOTE : the main source for this notebook would be Deep Learning with python,(by Francois chollet) and Machine learning course from MIT"
      ],
      "metadata": {
        "id": "82gccI2jOmOu"
      }
    },
    {
      "cell_type": "code",
      "source": [
        ""
      ],
      "metadata": {
        "id": "w2yyLO3MOm0r"
      },
      "execution_count": null,
      "outputs": []
    }
  ]
}